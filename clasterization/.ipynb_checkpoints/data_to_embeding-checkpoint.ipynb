{
 "cells": [
  {
   "cell_type": "code",
   "execution_count": 1,
   "metadata": {
    "colab": {
     "base_uri": "https://localhost:8080/",
     "height": 1000
    },
    "id": "Ic7Jfcyptx4H",
    "outputId": "82bc7025-6f0f-48fc-c40b-0686a8d63c81"
   },
   "outputs": [
    {
     "name": "stdout",
     "output_type": "stream",
     "text": [
      "Looking in indexes: https://pypi.org/simple, https://us-python.pkg.dev/colab-wheels/public/simple/\n",
      "Collecting geopandas\n",
      "  Downloading geopandas-0.13.0-py3-none-any.whl (1.1 MB)\n",
      "\u001b[2K     \u001b[90m━━━━━━━━━━━━━━━━━━━━━━━━━━━━━━━━━━━━━━━━\u001b[0m \u001b[32m1.1/1.1 MB\u001b[0m \u001b[31m18.0 MB/s\u001b[0m eta \u001b[36m0:00:00\u001b[0m\n",
      "\u001b[?25hCollecting h3\n",
      "  Downloading h3-3.7.6-cp310-cp310-manylinux_2_17_x86_64.manylinux2014_x86_64.whl (1.1 MB)\n",
      "\u001b[2K     \u001b[90m━━━━━━━━━━━━━━━━━━━━━━━━━━━━━━━━━━━━━━━━\u001b[0m \u001b[32m1.1/1.1 MB\u001b[0m \u001b[31m46.0 MB/s\u001b[0m eta \u001b[36m0:00:00\u001b[0m\n",
      "\u001b[?25hCollecting osmnx\n",
      "  Downloading osmnx-1.3.0-py3-none-any.whl (93 kB)\n",
      "\u001b[2K     \u001b[90m━━━━━━━━━━━━━━━━━━━━━━━━━━━━━━━━━━━━━━━━\u001b[0m \u001b[32m93.1/93.1 kB\u001b[0m \u001b[31m3.7 MB/s\u001b[0m eta \u001b[36m0:00:00\u001b[0m\n",
      "\u001b[?25hCollecting geojson\n",
      "  Downloading geojson-3.0.1-py3-none-any.whl (15 kB)\n",
      "Collecting fiona>=1.8.19 (from geopandas)\n",
      "  Downloading Fiona-1.9.4-cp310-cp310-manylinux_2_17_x86_64.manylinux2014_x86_64.whl (16.5 MB)\n",
      "\u001b[2K     \u001b[90m━━━━━━━━━━━━━━━━━━━━━━━━━━━━━━━━━━━━━━━━\u001b[0m \u001b[32m16.5/16.5 MB\u001b[0m \u001b[31m50.1 MB/s\u001b[0m eta \u001b[36m0:00:00\u001b[0m\n",
      "\u001b[?25hRequirement already satisfied: packaging in /usr/local/lib/python3.10/dist-packages (from geopandas) (23.1)\n",
      "Requirement already satisfied: pandas>=1.1.0 in /usr/local/lib/python3.10/dist-packages (from geopandas) (1.5.3)\n",
      "Collecting pyproj>=3.0.1 (from geopandas)\n",
      "  Downloading pyproj-3.5.0-cp310-cp310-manylinux_2_17_x86_64.manylinux2014_x86_64.whl (7.7 MB)\n",
      "\u001b[2K     \u001b[90m━━━━━━━━━━━━━━━━━━━━━━━━━━━━━━━━━━━━━━━━\u001b[0m \u001b[32m7.7/7.7 MB\u001b[0m \u001b[31m55.4 MB/s\u001b[0m eta \u001b[36m0:00:00\u001b[0m\n",
      "\u001b[?25hRequirement already satisfied: shapely>=1.7.1 in /usr/local/lib/python3.10/dist-packages (from geopandas) (2.0.1)\n",
      "Requirement already satisfied: matplotlib>=3.5 in /usr/local/lib/python3.10/dist-packages (from osmnx) (3.7.1)\n",
      "Requirement already satisfied: networkx>=2.8 in /usr/local/lib/python3.10/dist-packages (from osmnx) (3.1)\n",
      "Collecting numpy>=1.23 (from osmnx)\n",
      "  Downloading numpy-1.24.3-cp310-cp310-manylinux_2_17_x86_64.manylinux2014_x86_64.whl (17.3 MB)\n",
      "\u001b[2K     \u001b[90m━━━━━━━━━━━━━━━━━━━━━━━━━━━━━━━━━━━━━━━━\u001b[0m \u001b[32m17.3/17.3 MB\u001b[0m \u001b[31m16.4 MB/s\u001b[0m eta \u001b[36m0:00:00\u001b[0m\n",
      "\u001b[?25hRequirement already satisfied: python-dateutil>=2.8 in /usr/local/lib/python3.10/dist-packages (from osmnx) (2.8.2)\n",
      "Collecting requests>=2.28 (from osmnx)\n",
      "  Downloading requests-2.31.0-py3-none-any.whl (62 kB)\n",
      "\u001b[2K     \u001b[90m━━━━━━━━━━━━━━━━━━━━━━━━━━━━━━━━━━━━━━━━\u001b[0m \u001b[32m62.6/62.6 kB\u001b[0m \u001b[31m3.5 MB/s\u001b[0m eta \u001b[36m0:00:00\u001b[0m\n",
      "\u001b[?25hRequirement already satisfied: attrs>=19.2.0 in /usr/local/lib/python3.10/dist-packages (from fiona>=1.8.19->geopandas) (23.1.0)\n",
      "Requirement already satisfied: certifi in /usr/local/lib/python3.10/dist-packages (from fiona>=1.8.19->geopandas) (2022.12.7)\n",
      "Requirement already satisfied: click~=8.0 in /usr/local/lib/python3.10/dist-packages (from fiona>=1.8.19->geopandas) (8.1.3)\n",
      "Collecting click-plugins>=1.0 (from fiona>=1.8.19->geopandas)\n",
      "  Downloading click_plugins-1.1.1-py2.py3-none-any.whl (7.5 kB)\n",
      "Collecting cligj>=0.5 (from fiona>=1.8.19->geopandas)\n",
      "  Downloading cligj-0.7.2-py3-none-any.whl (7.1 kB)\n",
      "Requirement already satisfied: six in /usr/local/lib/python3.10/dist-packages (from fiona>=1.8.19->geopandas) (1.16.0)\n",
      "Requirement already satisfied: contourpy>=1.0.1 in /usr/local/lib/python3.10/dist-packages (from matplotlib>=3.5->osmnx) (1.0.7)\n",
      "Requirement already satisfied: cycler>=0.10 in /usr/local/lib/python3.10/dist-packages (from matplotlib>=3.5->osmnx) (0.11.0)\n",
      "Requirement already satisfied: fonttools>=4.22.0 in /usr/local/lib/python3.10/dist-packages (from matplotlib>=3.5->osmnx) (4.39.3)\n",
      "Requirement already satisfied: kiwisolver>=1.0.1 in /usr/local/lib/python3.10/dist-packages (from matplotlib>=3.5->osmnx) (1.4.4)\n",
      "Requirement already satisfied: pillow>=6.2.0 in /usr/local/lib/python3.10/dist-packages (from matplotlib>=3.5->osmnx) (8.4.0)\n",
      "Requirement already satisfied: pyparsing>=2.3.1 in /usr/local/lib/python3.10/dist-packages (from matplotlib>=3.5->osmnx) (3.0.9)\n",
      "Requirement already satisfied: pytz>=2020.1 in /usr/local/lib/python3.10/dist-packages (from pandas>=1.1.0->geopandas) (2022.7.1)\n",
      "Requirement already satisfied: charset-normalizer<4,>=2 in /usr/local/lib/python3.10/dist-packages (from requests>=2.28->osmnx) (2.0.12)\n",
      "Requirement already satisfied: idna<4,>=2.5 in /usr/local/lib/python3.10/dist-packages (from requests>=2.28->osmnx) (3.4)\n",
      "Requirement already satisfied: urllib3<3,>=1.21.1 in /usr/local/lib/python3.10/dist-packages (from requests>=2.28->osmnx) (1.26.15)\n",
      "Installing collected packages: h3, requests, pyproj, numpy, geojson, cligj, click-plugins, fiona, geopandas, osmnx\n",
      "  Attempting uninstall: requests\n",
      "    Found existing installation: requests 2.27.1\n",
      "    Uninstalling requests-2.27.1:\n",
      "      Successfully uninstalled requests-2.27.1\n",
      "  Attempting uninstall: numpy\n",
      "    Found existing installation: numpy 1.22.4\n",
      "    Uninstalling numpy-1.22.4:\n",
      "      Successfully uninstalled numpy-1.22.4\n",
      "\u001b[31mERROR: pip's dependency resolver does not currently take into account all the packages that are installed. This behaviour is the source of the following dependency conflicts.\n",
      "google-colab 1.0.0 requires requests==2.27.1, but you have requests 2.31.0 which is incompatible.\n",
      "numba 0.56.4 requires numpy<1.24,>=1.18, but you have numpy 1.24.3 which is incompatible.\n",
      "tensorflow 2.12.0 requires numpy<1.24,>=1.22, but you have numpy 1.24.3 which is incompatible.\u001b[0m\u001b[31m\n",
      "\u001b[0mSuccessfully installed click-plugins-1.1.1 cligj-0.7.2 fiona-1.9.4 geojson-3.0.1 geopandas-0.13.0 h3-3.7.6 numpy-1.24.3 osmnx-1.3.0 pyproj-3.5.0 requests-2.31.0\n"
     ]
    },
    {
     "data": {
      "application/vnd.colab-display-data+json": {
       "pip_warning": {
        "packages": [
         "numpy"
        ]
       }
      }
     },
     "metadata": {},
     "output_type": "display_data"
    }
   ],
   "source": [
    "!pip install geopandas h3 osmnx geojson"
   ]
  },
  {
   "cell_type": "code",
   "execution_count": 4,
   "metadata": {
    "colab": {
     "base_uri": "https://localhost:8080/"
    },
    "id": "6Lkdy8OHWUbc",
    "outputId": "597dbd4e-bc6a-4f5b-da2a-ea0cf8a58b34"
   },
   "outputs": [
    {
     "name": "stderr",
     "output_type": "stream",
     "text": [
      "<frozen importlib._bootstrap>:914: ImportWarning: APICoreClientInfoImportHook.find_spec() not found; falling back to find_module()\n",
      "<frozen importlib._bootstrap>:914: ImportWarning: _PyDriveImportHook.find_spec() not found; falling back to find_module()\n",
      "<frozen importlib._bootstrap>:914: ImportWarning: _OpenCVImportHook.find_spec() not found; falling back to find_module()\n",
      "<frozen importlib._bootstrap>:914: ImportWarning: _BokehImportHook.find_spec() not found; falling back to find_module()\n",
      "<frozen importlib._bootstrap>:914: ImportWarning: _AltairImportHook.find_spec() not found; falling back to find_module()\n",
      "<frozen importlib._bootstrap>:914: ImportWarning: APICoreClientInfoImportHook.find_spec() not found; falling back to find_module()\n",
      "<frozen importlib._bootstrap>:914: ImportWarning: _PyDriveImportHook.find_spec() not found; falling back to find_module()\n",
      "<frozen importlib._bootstrap>:914: ImportWarning: _OpenCVImportHook.find_spec() not found; falling back to find_module()\n",
      "<frozen importlib._bootstrap>:914: ImportWarning: _BokehImportHook.find_spec() not found; falling back to find_module()\n",
      "<frozen importlib._bootstrap>:914: ImportWarning: _AltairImportHook.find_spec() not found; falling back to find_module()\n"
     ]
    }
   ],
   "source": [
    "import geopandas as gpd\n",
    "import numpy as np\n",
    "import json\n",
    "import h3\n",
    "import folium\n",
    "import osmnx as ox\n",
    "from shapely import wkt\n",
    "from folium.plugins import HeatMap\n",
    "from shapely.geometry import Polygon\n",
    "from folium.plugins import MarkerCluster, HeatMap\n",
    "import pandas as pd\n",
    "from shapely.geometry import Polygon\n",
    "from geojson import Feature, Point, FeatureCollection, Polygon\n",
    "import plotly.express as px\n",
    "from tqdm import tqdm\n",
    "\n",
    "tqdm.pandas()\n",
    "     \n",
    "\n",
    "place_name = \"Ступино, Московская область, RU\""
   ]
  },
  {
   "cell_type": "code",
   "execution_count": 35,
   "metadata": {
    "colab": {
     "base_uri": "https://localhost:8080/",
     "height": 1000
    },
    "id": "FzRe83ZXWQfz",
    "outputId": "0a5d2367-530c-43ce-e392-a78d91780267"
   },
   "outputs": [
    {
     "name": "stderr",
     "output_type": "stream",
     "text": [
      "/usr/local/lib/python3.10/dist-packages/ipykernel/ipkernel.py:283: DeprecationWarning: `should_run_async` will not call `transform_cell` automatically in the future. Please pass the result to `transformed_cell` argument and any exception that happen during thetransform in `preprocessing_exc_tuple` in IPython 7.17 and above.\n",
      "  and should_run_async(code)\n"
     ]
    },
    {
     "data": {
      "text/html": [
       "\n",
       "  <div id=\"df-bd2aff00-4719-43b0-b1ab-b842a9ffaef7\">\n",
       "    <div class=\"colab-df-container\">\n",
       "      <div>\n",
       "<style scoped>\n",
       "    .dataframe tbody tr th:only-of-type {\n",
       "        vertical-align: middle;\n",
       "    }\n",
       "\n",
       "    .dataframe tbody tr th {\n",
       "        vertical-align: top;\n",
       "    }\n",
       "\n",
       "    .dataframe thead th {\n",
       "        text-align: right;\n",
       "    }\n",
       "</style>\n",
       "<table border=\"1\" class=\"dataframe\">\n",
       "  <thead>\n",
       "    <tr style=\"text-align: right;\">\n",
       "      <th></th>\n",
       "      <th></th>\n",
       "      <th>railway</th>\n",
       "      <th>railway:position</th>\n",
       "      <th>geometry</th>\n",
       "      <th>esr:user</th>\n",
       "      <th>express:user</th>\n",
       "      <th>name</th>\n",
       "      <th>name:en</th>\n",
       "      <th>operator</th>\n",
       "      <th>public_transport</th>\n",
       "      <th>train</th>\n",
       "      <th>...</th>\n",
       "      <th>building:parts</th>\n",
       "      <th>fire_station:type</th>\n",
       "      <th>building:part</th>\n",
       "      <th>construction</th>\n",
       "      <th>ways</th>\n",
       "      <th>type</th>\n",
       "      <th>health_facility:type</th>\n",
       "      <th>place_of_worship</th>\n",
       "      <th>building:flats</th>\n",
       "      <th>energy_class</th>\n",
       "    </tr>\n",
       "    <tr>\n",
       "      <th>element_type</th>\n",
       "      <th>osmid</th>\n",
       "      <th></th>\n",
       "      <th></th>\n",
       "      <th></th>\n",
       "      <th></th>\n",
       "      <th></th>\n",
       "      <th></th>\n",
       "      <th></th>\n",
       "      <th></th>\n",
       "      <th></th>\n",
       "      <th></th>\n",
       "      <th></th>\n",
       "      <th></th>\n",
       "      <th></th>\n",
       "      <th></th>\n",
       "      <th></th>\n",
       "      <th></th>\n",
       "      <th></th>\n",
       "      <th></th>\n",
       "      <th></th>\n",
       "      <th></th>\n",
       "      <th></th>\n",
       "    </tr>\n",
       "  </thead>\n",
       "  <tbody>\n",
       "    <tr>\n",
       "      <th rowspan=\"5\" valign=\"top\">node</th>\n",
       "      <th>266734134</th>\n",
       "      <td>milestone</td>\n",
       "      <td>105.0</td>\n",
       "      <td>POINT (38.15036 54.86956)</td>\n",
       "      <td>NaN</td>\n",
       "      <td>NaN</td>\n",
       "      <td>NaN</td>\n",
       "      <td>NaN</td>\n",
       "      <td>NaN</td>\n",
       "      <td>NaN</td>\n",
       "      <td>NaN</td>\n",
       "      <td>...</td>\n",
       "      <td>NaN</td>\n",
       "      <td>NaN</td>\n",
       "      <td>NaN</td>\n",
       "      <td>NaN</td>\n",
       "      <td>NaN</td>\n",
       "      <td>NaN</td>\n",
       "      <td>NaN</td>\n",
       "      <td>NaN</td>\n",
       "      <td>NaN</td>\n",
       "      <td>NaN</td>\n",
       "    </tr>\n",
       "    <tr>\n",
       "      <th>266734137</th>\n",
       "      <td>milestone</td>\n",
       "      <td>104.2</td>\n",
       "      <td>POINT (38.13834 54.86898)</td>\n",
       "      <td>NaN</td>\n",
       "      <td>NaN</td>\n",
       "      <td>NaN</td>\n",
       "      <td>NaN</td>\n",
       "      <td>NaN</td>\n",
       "      <td>NaN</td>\n",
       "      <td>NaN</td>\n",
       "      <td>...</td>\n",
       "      <td>NaN</td>\n",
       "      <td>NaN</td>\n",
       "      <td>NaN</td>\n",
       "      <td>NaN</td>\n",
       "      <td>NaN</td>\n",
       "      <td>NaN</td>\n",
       "      <td>NaN</td>\n",
       "      <td>NaN</td>\n",
       "      <td>NaN</td>\n",
       "      <td>NaN</td>\n",
       "    </tr>\n",
       "    <tr>\n",
       "      <th>266734138</th>\n",
       "      <td>milestone</td>\n",
       "      <td>103.6</td>\n",
       "      <td>POINT (38.12926 54.86902)</td>\n",
       "      <td>NaN</td>\n",
       "      <td>NaN</td>\n",
       "      <td>NaN</td>\n",
       "      <td>NaN</td>\n",
       "      <td>NaN</td>\n",
       "      <td>NaN</td>\n",
       "      <td>NaN</td>\n",
       "      <td>...</td>\n",
       "      <td>NaN</td>\n",
       "      <td>NaN</td>\n",
       "      <td>NaN</td>\n",
       "      <td>NaN</td>\n",
       "      <td>NaN</td>\n",
       "      <td>NaN</td>\n",
       "      <td>NaN</td>\n",
       "      <td>NaN</td>\n",
       "      <td>NaN</td>\n",
       "      <td>NaN</td>\n",
       "    </tr>\n",
       "    <tr>\n",
       "      <th>266734139</th>\n",
       "      <td>milestone</td>\n",
       "      <td>102.9</td>\n",
       "      <td>POINT (38.12035 54.87257)</td>\n",
       "      <td>NaN</td>\n",
       "      <td>NaN</td>\n",
       "      <td>NaN</td>\n",
       "      <td>NaN</td>\n",
       "      <td>NaN</td>\n",
       "      <td>NaN</td>\n",
       "      <td>NaN</td>\n",
       "      <td>...</td>\n",
       "      <td>NaN</td>\n",
       "      <td>NaN</td>\n",
       "      <td>NaN</td>\n",
       "      <td>NaN</td>\n",
       "      <td>NaN</td>\n",
       "      <td>NaN</td>\n",
       "      <td>NaN</td>\n",
       "      <td>NaN</td>\n",
       "      <td>NaN</td>\n",
       "      <td>NaN</td>\n",
       "    </tr>\n",
       "    <tr>\n",
       "      <th>266734140</th>\n",
       "      <td>milestone</td>\n",
       "      <td>101.8</td>\n",
       "      <td>POINT (38.10785 54.87928)</td>\n",
       "      <td>NaN</td>\n",
       "      <td>NaN</td>\n",
       "      <td>NaN</td>\n",
       "      <td>NaN</td>\n",
       "      <td>NaN</td>\n",
       "      <td>NaN</td>\n",
       "      <td>NaN</td>\n",
       "      <td>...</td>\n",
       "      <td>NaN</td>\n",
       "      <td>NaN</td>\n",
       "      <td>NaN</td>\n",
       "      <td>NaN</td>\n",
       "      <td>NaN</td>\n",
       "      <td>NaN</td>\n",
       "      <td>NaN</td>\n",
       "      <td>NaN</td>\n",
       "      <td>NaN</td>\n",
       "      <td>NaN</td>\n",
       "    </tr>\n",
       "    <tr>\n",
       "      <th>...</th>\n",
       "      <th>...</th>\n",
       "      <td>...</td>\n",
       "      <td>...</td>\n",
       "      <td>...</td>\n",
       "      <td>...</td>\n",
       "      <td>...</td>\n",
       "      <td>...</td>\n",
       "      <td>...</td>\n",
       "      <td>...</td>\n",
       "      <td>...</td>\n",
       "      <td>...</td>\n",
       "      <td>...</td>\n",
       "      <td>...</td>\n",
       "      <td>...</td>\n",
       "      <td>...</td>\n",
       "      <td>...</td>\n",
       "      <td>...</td>\n",
       "      <td>...</td>\n",
       "      <td>...</td>\n",
       "      <td>...</td>\n",
       "      <td>...</td>\n",
       "      <td>...</td>\n",
       "    </tr>\n",
       "    <tr>\n",
       "      <th rowspan=\"5\" valign=\"top\">relation</th>\n",
       "      <th>10902110</th>\n",
       "      <td>NaN</td>\n",
       "      <td>NaN</td>\n",
       "      <td>POLYGON ((38.02487 54.93402, 38.02657 54.93436...</td>\n",
       "      <td>NaN</td>\n",
       "      <td>NaN</td>\n",
       "      <td>СНТ «Москворецкие Сады»</td>\n",
       "      <td>NaN</td>\n",
       "      <td>NaN</td>\n",
       "      <td>NaN</td>\n",
       "      <td>NaN</td>\n",
       "      <td>...</td>\n",
       "      <td>NaN</td>\n",
       "      <td>NaN</td>\n",
       "      <td>NaN</td>\n",
       "      <td>NaN</td>\n",
       "      <td>[80330991, 80330982]</td>\n",
       "      <td>multipolygon</td>\n",
       "      <td>NaN</td>\n",
       "      <td>NaN</td>\n",
       "      <td>NaN</td>\n",
       "      <td>NaN</td>\n",
       "    </tr>\n",
       "    <tr>\n",
       "      <th>14184727</th>\n",
       "      <td>NaN</td>\n",
       "      <td>NaN</td>\n",
       "      <td>POLYGON ((38.05542 54.88067, 38.05545 54.88086...</td>\n",
       "      <td>NaN</td>\n",
       "      <td>NaN</td>\n",
       "      <td>NaN</td>\n",
       "      <td>NaN</td>\n",
       "      <td>NaN</td>\n",
       "      <td>NaN</td>\n",
       "      <td>NaN</td>\n",
       "      <td>...</td>\n",
       "      <td>NaN</td>\n",
       "      <td>NaN</td>\n",
       "      <td>NaN</td>\n",
       "      <td>NaN</td>\n",
       "      <td>[1063932181, 432581694]</td>\n",
       "      <td>multipolygon</td>\n",
       "      <td>NaN</td>\n",
       "      <td>NaN</td>\n",
       "      <td>491</td>\n",
       "      <td>B</td>\n",
       "    </tr>\n",
       "    <tr>\n",
       "      <th>14184732</th>\n",
       "      <td>NaN</td>\n",
       "      <td>NaN</td>\n",
       "      <td>POLYGON ((38.05538 54.88040, 38.05540 54.88053...</td>\n",
       "      <td>NaN</td>\n",
       "      <td>NaN</td>\n",
       "      <td>NaN</td>\n",
       "      <td>NaN</td>\n",
       "      <td>NaN</td>\n",
       "      <td>NaN</td>\n",
       "      <td>NaN</td>\n",
       "      <td>...</td>\n",
       "      <td>NaN</td>\n",
       "      <td>NaN</td>\n",
       "      <td>NaN</td>\n",
       "      <td>NaN</td>\n",
       "      <td>[432581705, 1063932193, 1063932181, 1063932180]</td>\n",
       "      <td>multipolygon</td>\n",
       "      <td>NaN</td>\n",
       "      <td>NaN</td>\n",
       "      <td>424</td>\n",
       "      <td>B</td>\n",
       "    </tr>\n",
       "    <tr>\n",
       "      <th>14979596</th>\n",
       "      <td>NaN</td>\n",
       "      <td>NaN</td>\n",
       "      <td>POLYGON ((38.07452 54.91011, 38.07466 54.91011...</td>\n",
       "      <td>NaN</td>\n",
       "      <td>NaN</td>\n",
       "      <td>NaN</td>\n",
       "      <td>NaN</td>\n",
       "      <td>NaN</td>\n",
       "      <td>NaN</td>\n",
       "      <td>NaN</td>\n",
       "      <td>...</td>\n",
       "      <td>NaN</td>\n",
       "      <td>NaN</td>\n",
       "      <td>NaN</td>\n",
       "      <td>NaN</td>\n",
       "      <td>[1120051306, 1120051302, 1120051305, 437573937...</td>\n",
       "      <td>multipolygon</td>\n",
       "      <td>NaN</td>\n",
       "      <td>NaN</td>\n",
       "      <td>NaN</td>\n",
       "      <td>NaN</td>\n",
       "    </tr>\n",
       "    <tr>\n",
       "      <th>15892702</th>\n",
       "      <td>NaN</td>\n",
       "      <td>NaN</td>\n",
       "      <td>POLYGON ((38.05655 54.88086, 38.05647 54.88087...</td>\n",
       "      <td>NaN</td>\n",
       "      <td>NaN</td>\n",
       "      <td>Детский сад №28 \"Дельфинчик\"</td>\n",
       "      <td>NaN</td>\n",
       "      <td>NaN</td>\n",
       "      <td>NaN</td>\n",
       "      <td>NaN</td>\n",
       "      <td>...</td>\n",
       "      <td>NaN</td>\n",
       "      <td>NaN</td>\n",
       "      <td>NaN</td>\n",
       "      <td>NaN</td>\n",
       "      <td>[414680937, 1175172657]</td>\n",
       "      <td>multipolygon</td>\n",
       "      <td>NaN</td>\n",
       "      <td>NaN</td>\n",
       "      <td>NaN</td>\n",
       "      <td>NaN</td>\n",
       "    </tr>\n",
       "  </tbody>\n",
       "</table>\n",
       "<p>8588 rows × 231 columns</p>\n",
       "</div>\n",
       "      <button class=\"colab-df-convert\" onclick=\"convertToInteractive('df-bd2aff00-4719-43b0-b1ab-b842a9ffaef7')\"\n",
       "              title=\"Convert this dataframe to an interactive table.\"\n",
       "              style=\"display:none;\">\n",
       "        \n",
       "  <svg xmlns=\"http://www.w3.org/2000/svg\" height=\"24px\"viewBox=\"0 0 24 24\"\n",
       "       width=\"24px\">\n",
       "    <path d=\"M0 0h24v24H0V0z\" fill=\"none\"/>\n",
       "    <path d=\"M18.56 5.44l.94 2.06.94-2.06 2.06-.94-2.06-.94-.94-2.06-.94 2.06-2.06.94zm-11 1L8.5 8.5l.94-2.06 2.06-.94-2.06-.94L8.5 2.5l-.94 2.06-2.06.94zm10 10l.94 2.06.94-2.06 2.06-.94-2.06-.94-.94-2.06-.94 2.06-2.06.94z\"/><path d=\"M17.41 7.96l-1.37-1.37c-.4-.4-.92-.59-1.43-.59-.52 0-1.04.2-1.43.59L10.3 9.45l-7.72 7.72c-.78.78-.78 2.05 0 2.83L4 21.41c.39.39.9.59 1.41.59.51 0 1.02-.2 1.41-.59l7.78-7.78 2.81-2.81c.8-.78.8-2.07 0-2.86zM5.41 20L4 18.59l7.72-7.72 1.47 1.35L5.41 20z\"/>\n",
       "  </svg>\n",
       "      </button>\n",
       "      \n",
       "  <style>\n",
       "    .colab-df-container {\n",
       "      display:flex;\n",
       "      flex-wrap:wrap;\n",
       "      gap: 12px;\n",
       "    }\n",
       "\n",
       "    .colab-df-convert {\n",
       "      background-color: #E8F0FE;\n",
       "      border: none;\n",
       "      border-radius: 50%;\n",
       "      cursor: pointer;\n",
       "      display: none;\n",
       "      fill: #1967D2;\n",
       "      height: 32px;\n",
       "      padding: 0 0 0 0;\n",
       "      width: 32px;\n",
       "    }\n",
       "\n",
       "    .colab-df-convert:hover {\n",
       "      background-color: #E2EBFA;\n",
       "      box-shadow: 0px 1px 2px rgba(60, 64, 67, 0.3), 0px 1px 3px 1px rgba(60, 64, 67, 0.15);\n",
       "      fill: #174EA6;\n",
       "    }\n",
       "\n",
       "    [theme=dark] .colab-df-convert {\n",
       "      background-color: #3B4455;\n",
       "      fill: #D2E3FC;\n",
       "    }\n",
       "\n",
       "    [theme=dark] .colab-df-convert:hover {\n",
       "      background-color: #434B5C;\n",
       "      box-shadow: 0px 1px 3px 1px rgba(0, 0, 0, 0.15);\n",
       "      filter: drop-shadow(0px 1px 2px rgba(0, 0, 0, 0.3));\n",
       "      fill: #FFFFFF;\n",
       "    }\n",
       "  </style>\n",
       "\n",
       "      <script>\n",
       "        const buttonEl =\n",
       "          document.querySelector('#df-bd2aff00-4719-43b0-b1ab-b842a9ffaef7 button.colab-df-convert');\n",
       "        buttonEl.style.display =\n",
       "          google.colab.kernel.accessAllowed ? 'block' : 'none';\n",
       "\n",
       "        async function convertToInteractive(key) {\n",
       "          const element = document.querySelector('#df-bd2aff00-4719-43b0-b1ab-b842a9ffaef7');\n",
       "          const dataTable =\n",
       "            await google.colab.kernel.invokeFunction('convertToInteractive',\n",
       "                                                     [key], {});\n",
       "          if (!dataTable) return;\n",
       "\n",
       "          const docLinkHtml = 'Like what you see? Visit the ' +\n",
       "            '<a target=\"_blank\" href=https://colab.research.google.com/notebooks/data_table.ipynb>data table notebook</a>'\n",
       "            + ' to learn more about interactive tables.';\n",
       "          element.innerHTML = '';\n",
       "          dataTable['output_type'] = 'display_data';\n",
       "          await google.colab.output.renderOutput(dataTable, element);\n",
       "          const docLink = document.createElement('div');\n",
       "          docLink.innerHTML = docLinkHtml;\n",
       "          element.appendChild(docLink);\n",
       "        }\n",
       "      </script>\n",
       "    </div>\n",
       "  </div>\n",
       "  "
      ],
      "text/plain": [
       "                          railway railway:position  \\\n",
       "element_type osmid                                   \n",
       "node         266734134  milestone            105.0   \n",
       "             266734137  milestone            104.2   \n",
       "             266734138  milestone            103.6   \n",
       "             266734139  milestone            102.9   \n",
       "             266734140  milestone            101.8   \n",
       "...                           ...              ...   \n",
       "relation     10902110         NaN              NaN   \n",
       "             14184727         NaN              NaN   \n",
       "             14184732         NaN              NaN   \n",
       "             14979596         NaN              NaN   \n",
       "             15892702         NaN              NaN   \n",
       "\n",
       "                                                                 geometry  \\\n",
       "element_type osmid                                                          \n",
       "node         266734134                          POINT (38.15036 54.86956)   \n",
       "             266734137                          POINT (38.13834 54.86898)   \n",
       "             266734138                          POINT (38.12926 54.86902)   \n",
       "             266734139                          POINT (38.12035 54.87257)   \n",
       "             266734140                          POINT (38.10785 54.87928)   \n",
       "...                                                                   ...   \n",
       "relation     10902110   POLYGON ((38.02487 54.93402, 38.02657 54.93436...   \n",
       "             14184727   POLYGON ((38.05542 54.88067, 38.05545 54.88086...   \n",
       "             14184732   POLYGON ((38.05538 54.88040, 38.05540 54.88053...   \n",
       "             14979596   POLYGON ((38.07452 54.91011, 38.07466 54.91011...   \n",
       "             15892702   POLYGON ((38.05655 54.88086, 38.05647 54.88087...   \n",
       "\n",
       "                       esr:user express:user                          name  \\\n",
       "element_type osmid                                                           \n",
       "node         266734134      NaN          NaN                           NaN   \n",
       "             266734137      NaN          NaN                           NaN   \n",
       "             266734138      NaN          NaN                           NaN   \n",
       "             266734139      NaN          NaN                           NaN   \n",
       "             266734140      NaN          NaN                           NaN   \n",
       "...                         ...          ...                           ...   \n",
       "relation     10902110       NaN          NaN       СНТ «Москворецкие Сады»   \n",
       "             14184727       NaN          NaN                           NaN   \n",
       "             14184732       NaN          NaN                           NaN   \n",
       "             14979596       NaN          NaN                           NaN   \n",
       "             15892702       NaN          NaN  Детский сад №28 \"Дельфинчик\"   \n",
       "\n",
       "                       name:en operator public_transport train  ...  \\\n",
       "element_type osmid                                              ...   \n",
       "node         266734134     NaN      NaN              NaN   NaN  ...   \n",
       "             266734137     NaN      NaN              NaN   NaN  ...   \n",
       "             266734138     NaN      NaN              NaN   NaN  ...   \n",
       "             266734139     NaN      NaN              NaN   NaN  ...   \n",
       "             266734140     NaN      NaN              NaN   NaN  ...   \n",
       "...                        ...      ...              ...   ...  ...   \n",
       "relation     10902110      NaN      NaN              NaN   NaN  ...   \n",
       "             14184727      NaN      NaN              NaN   NaN  ...   \n",
       "             14184732      NaN      NaN              NaN   NaN  ...   \n",
       "             14979596      NaN      NaN              NaN   NaN  ...   \n",
       "             15892702      NaN      NaN              NaN   NaN  ...   \n",
       "\n",
       "                       building:parts fire_station:type building:part  \\\n",
       "element_type osmid                                                      \n",
       "node         266734134            NaN               NaN           NaN   \n",
       "             266734137            NaN               NaN           NaN   \n",
       "             266734138            NaN               NaN           NaN   \n",
       "             266734139            NaN               NaN           NaN   \n",
       "             266734140            NaN               NaN           NaN   \n",
       "...                               ...               ...           ...   \n",
       "relation     10902110             NaN               NaN           NaN   \n",
       "             14184727             NaN               NaN           NaN   \n",
       "             14184732             NaN               NaN           NaN   \n",
       "             14979596             NaN               NaN           NaN   \n",
       "             15892702             NaN               NaN           NaN   \n",
       "\n",
       "                       construction  \\\n",
       "element_type osmid                    \n",
       "node         266734134          NaN   \n",
       "             266734137          NaN   \n",
       "             266734138          NaN   \n",
       "             266734139          NaN   \n",
       "             266734140          NaN   \n",
       "...                             ...   \n",
       "relation     10902110           NaN   \n",
       "             14184727           NaN   \n",
       "             14184732           NaN   \n",
       "             14979596           NaN   \n",
       "             15892702           NaN   \n",
       "\n",
       "                                                                     ways  \\\n",
       "element_type osmid                                                          \n",
       "node         266734134                                                NaN   \n",
       "             266734137                                                NaN   \n",
       "             266734138                                                NaN   \n",
       "             266734139                                                NaN   \n",
       "             266734140                                                NaN   \n",
       "...                                                                   ...   \n",
       "relation     10902110                                [80330991, 80330982]   \n",
       "             14184727                             [1063932181, 432581694]   \n",
       "             14184732     [432581705, 1063932193, 1063932181, 1063932180]   \n",
       "             14979596   [1120051306, 1120051302, 1120051305, 437573937...   \n",
       "             15892702                             [414680937, 1175172657]   \n",
       "\n",
       "                                type health_facility:type place_of_worship  \\\n",
       "element_type osmid                                                           \n",
       "node         266734134           NaN                  NaN              NaN   \n",
       "             266734137           NaN                  NaN              NaN   \n",
       "             266734138           NaN                  NaN              NaN   \n",
       "             266734139           NaN                  NaN              NaN   \n",
       "             266734140           NaN                  NaN              NaN   \n",
       "...                              ...                  ...              ...   \n",
       "relation     10902110   multipolygon                  NaN              NaN   \n",
       "             14184727   multipolygon                  NaN              NaN   \n",
       "             14184732   multipolygon                  NaN              NaN   \n",
       "             14979596   multipolygon                  NaN              NaN   \n",
       "             15892702   multipolygon                  NaN              NaN   \n",
       "\n",
       "                       building:flats energy_class  \n",
       "element_type osmid                                  \n",
       "node         266734134            NaN          NaN  \n",
       "             266734137            NaN          NaN  \n",
       "             266734138            NaN          NaN  \n",
       "             266734139            NaN          NaN  \n",
       "             266734140            NaN          NaN  \n",
       "...                               ...          ...  \n",
       "relation     10902110             NaN          NaN  \n",
       "             14184727             491            B  \n",
       "             14184732             424            B  \n",
       "             14979596             NaN          NaN  \n",
       "             15892702             NaN          NaN  \n",
       "\n",
       "[8588 rows x 231 columns]"
      ]
     },
     "execution_count": 35,
     "metadata": {},
     "output_type": "execute_result"
    }
   ],
   "source": [
    "tags = {'amenity': True, 'landuse': True, 'shop': True, 'office': True, 'tourism': True, 'building': True, 'railway': True} \n",
    "# tags = {'highway': 'bus_stop',\n",
    "#     'building': ['apartments', 'detached', 'dormitory', 'house', 'residential', 'semidetached_house', 'commercial', 'kiosk', 'retail', \"supermarket\", 'train_station'],\n",
    "#     'railway': ['station', 'subway_entrance', 'tram_stop'],  \n",
    "#     # 'amenity': ['bar', 'cafe', 'fast_food', 'food_court', 'pub', 'restaurant', 'college', 'driving_school', \n",
    "#     #             'language_school', 'school', 'kindergarten', 'university', 'car_wash', 'fuel', 'atm', \n",
    "#     #             'bank', 'clinic', 'dentist', 'doctors', 'hospital', 'pharmacy', 'veterinary', 'theatre', 'cinema'], \n",
    "#     'amenity': True,\n",
    "#     'tourism': ['hostel', 'hotel']\n",
    "#  }\n",
    "\n",
    "items = ox.geometries_from_place(place_name, tags)\n",
    "items"
   ]
  },
  {
   "cell_type": "code",
   "execution_count": 33,
   "metadata": {
    "colab": {
     "base_uri": "https://localhost:8080/"
    },
    "id": "bQK1aww1XBiU",
    "outputId": "94a3774d-6572-4a5f-df8a-366a206d0c08"
   },
   "outputs": [
    {
     "data": {
      "text/plain": [
       "yes               2930\n",
       "house              647\n",
       "shed               468\n",
       "detached           437\n",
       "apartments         380\n",
       "garages            292\n",
       "industrial         188\n",
       "garage             169\n",
       "roof               141\n",
       "service            139\n",
       "retail             109\n",
       "residential         37\n",
       "commercial          37\n",
       "kindergarten        24\n",
       "construction        23\n",
       "school              17\n",
       "hospital            15\n",
       "civic               12\n",
       "warehouse           11\n",
       "church               7\n",
       "ruins                6\n",
       "public               6\n",
       "college              4\n",
       "office               3\n",
       "kiosk                3\n",
       "university           3\n",
       "hangar               3\n",
       "train_station        2\n",
       "ground_station       1\n",
       "cathedral            1\n",
       "chapel               1\n",
       "manufacture          1\n",
       "Name: building, dtype: int64"
      ]
     },
     "execution_count": 33,
     "metadata": {},
     "output_type": "execute_result"
    }
   ],
   "source": [
    "items.building.value_counts()"
   ]
  },
  {
   "cell_type": "code",
   "execution_count": 13,
   "metadata": {
    "id": "pJGadnHlXD-P"
   },
   "outputs": [],
   "source": [
    "shops = {i: ix for ix, i  in enumerate(dict(items.shop.value_counts()[:]).keys())}\n",
    "shops_inv = {ix: i for ix, i  in enumerate(dict(items.shop.value_counts()[:]).keys())}"
   ]
  },
  {
   "cell_type": "code",
   "execution_count": 14,
   "metadata": {
    "colab": {
     "base_uri": "https://localhost:8080/"
    },
    "id": "SU9ZeWu2QvHK",
    "outputId": "a62a65f8-fd5e-4824-e0ac-8d3c14caac30"
   },
   "outputs": [
    {
     "name": "stderr",
     "output_type": "stream",
     "text": [
      "/usr/local/lib/python3.10/dist-packages/ipykernel/ipkernel.py:283: DeprecationWarning: `should_run_async` will not call `transform_cell` automatically in the future. Please pass the result to `transformed_cell` argument and any exception that happen during thetransform in `preprocessing_exc_tuple` in IPython 7.17 and above.\n",
      "  and should_run_async(code)\n"
     ]
    },
    {
     "data": {
      "text/plain": [
       "{'kiosk': 0,\n",
       " 'convenience': 1,\n",
       " 'yes': 2,\n",
       " 'mall': 3,\n",
       " 'ticket': 4,\n",
       " 'supermarket': 5,\n",
       " 'newsagent': 6}"
      ]
     },
     "execution_count": 14,
     "metadata": {},
     "output_type": "execute_result"
    }
   ],
   "source": [
    "shops"
   ]
  },
  {
   "cell_type": "code",
   "execution_count": null,
   "metadata": {
    "colab": {
     "base_uri": "https://localhost:8080/"
    },
    "id": "gnnX1iqQZquJ",
    "outputId": "fa2479e6-cb4d-4cf0-8f11-88487ad2256c"
   },
   "outputs": [
    {
     "name": "stderr",
     "output_type": "stream",
     "text": [
      "/usr/local/lib/python3.10/dist-packages/ipykernel/ipkernel.py:283: DeprecationWarning: `should_run_async` will not call `transform_cell` automatically in the future. Please pass the result to `transformed_cell` argument and any exception that happen during thetransform in `preprocessing_exc_tuple` in IPython 7.17 and above.\n",
      "  and should_run_async(code)\n"
     ]
    }
   ],
   "source": [
    "# list(shops.keys())"
   ]
  },
  {
   "cell_type": "code",
   "execution_count": 36,
   "metadata": {
    "colab": {
     "base_uri": "https://localhost:8080/"
    },
    "id": "qsWxCIw2XY6y",
    "outputId": "62b8695d-c679-4dfc-ded9-afb1043e65f7"
   },
   "outputs": [
    {
     "name": "stderr",
     "output_type": "stream",
     "text": [
      "/usr/local/lib/python3.10/dist-packages/ipykernel/ipkernel.py:283: DeprecationWarning: `should_run_async` will not call `transform_cell` automatically in the future. Please pass the result to `transformed_cell` argument and any exception that happen during thetransform in `preprocessing_exc_tuple` in IPython 7.17 and above.\n",
      "  and should_run_async(code)\n"
     ]
    }
   ],
   "source": [
    "one_hot_shop = pd.get_dummies(items['shop'])\n",
    "df_shops = one_hot_shop[list(shops.keys())]#.groupby()"
   ]
  },
  {
   "cell_type": "code",
   "execution_count": 37,
   "metadata": {
    "id": "652QYvsLD9uC"
   },
   "outputs": [],
   "source": [
    "amenities = {i: ix for ix, i  in enumerate(dict(items.amenity.value_counts()[:]).keys())}"
   ]
  },
  {
   "cell_type": "code",
   "execution_count": 38,
   "metadata": {
    "colab": {
     "base_uri": "https://localhost:8080/"
    },
    "id": "zZD1yphdz13P",
    "outputId": "0c4be12b-848a-4a6d-dad5-c2a967b9ab8e"
   },
   "outputs": [
    {
     "name": "stderr",
     "output_type": "stream",
     "text": [
      "/usr/local/lib/python3.10/dist-packages/ipykernel/ipkernel.py:283: DeprecationWarning: `should_run_async` will not call `transform_cell` automatically in the future. Please pass the result to `transformed_cell` argument and any exception that happen during thetransform in `preprocessing_exc_tuple` in IPython 7.17 and above.\n",
      "  and should_run_async(code)\n"
     ]
    }
   ],
   "source": [
    "tourism = {i: ix for ix, i  in enumerate(dict(items.tourism.value_counts()[:]).keys())}"
   ]
  },
  {
   "cell_type": "code",
   "execution_count": 39,
   "metadata": {
    "colab": {
     "base_uri": "https://localhost:8080/"
    },
    "id": "pBCPiF_80NNm",
    "outputId": "4c43c0a1-172e-4deb-c8ed-8cd2a5497ceb"
   },
   "outputs": [
    {
     "name": "stderr",
     "output_type": "stream",
     "text": [
      "/usr/local/lib/python3.10/dist-packages/ipykernel/ipkernel.py:283: DeprecationWarning: `should_run_async` will not call `transform_cell` automatically in the future. Please pass the result to `transformed_cell` argument and any exception that happen during thetransform in `preprocessing_exc_tuple` in IPython 7.17 and above.\n",
      "  and should_run_async(code)\n"
     ]
    }
   ],
   "source": [
    "office = {i: ix for ix, i  in enumerate(dict(items.office.value_counts()[:]).keys())}"
   ]
  },
  {
   "cell_type": "code",
   "execution_count": 40,
   "metadata": {
    "id": "wWD6YXPwXHNp"
   },
   "outputs": [],
   "source": [
    "landuse = {i: ix for ix, i  in enumerate(dict(items.landuse.value_counts()[:]).keys())}"
   ]
  },
  {
   "cell_type": "code",
   "execution_count": 41,
   "metadata": {
    "colab": {
     "base_uri": "https://localhost:8080/"
    },
    "id": "B9t8U7KeXM2_",
    "outputId": "e921046e-7cc1-4f66-f2f3-f7aef6f7e8fe"
   },
   "outputs": [
    {
     "name": "stderr",
     "output_type": "stream",
     "text": [
      "/usr/local/lib/python3.10/dist-packages/ipykernel/ipkernel.py:283: DeprecationWarning: `should_run_async` will not call `transform_cell` automatically in the future. Please pass the result to `transformed_cell` argument and any exception that happen during thetransform in `preprocessing_exc_tuple` in IPython 7.17 and above.\n",
      "  and should_run_async(code)\n"
     ]
    }
   ],
   "source": [
    "railway = {i: ix for ix, i  in enumerate(dict(items.railway.value_counts()[:]).keys())}"
   ]
  },
  {
   "cell_type": "code",
   "execution_count": 44,
   "metadata": {
    "colab": {
     "base_uri": "https://localhost:8080/"
    },
    "id": "94reXlgtaQSF",
    "outputId": "690a7a56-41db-4d32-dc85-9a767827cc19"
   },
   "outputs": [
    {
     "name": "stderr",
     "output_type": "stream",
     "text": [
      "/usr/local/lib/python3.10/dist-packages/ipykernel/ipkernel.py:283: DeprecationWarning: `should_run_async` will not call `transform_cell` automatically in the future. Please pass the result to `transformed_cell` argument and any exception that happen during thetransform in `preprocessing_exc_tuple` in IPython 7.17 and above.\n",
      "  and should_run_async(code)\n"
     ]
    }
   ],
   "source": [
    "building = {i: ix for ix, i  in enumerate(dict(items.building.value_counts()[:]).keys())}"
   ]
  },
  {
   "cell_type": "code",
   "execution_count": 45,
   "metadata": {
    "colab": {
     "base_uri": "https://localhost:8080/"
    },
    "id": "5RdTFucyaoUF",
    "outputId": "6052c914-fe7a-4923-d106-476fb841ba4f"
   },
   "outputs": [
    {
     "name": "stderr",
     "output_type": "stream",
     "text": [
      "/usr/local/lib/python3.10/dist-packages/ipykernel/ipkernel.py:283: DeprecationWarning: `should_run_async` will not call `transform_cell` automatically in the future. Please pass the result to `transformed_cell` argument and any exception that happen during thetransform in `preprocessing_exc_tuple` in IPython 7.17 and above.\n",
      "  and should_run_async(code)\n"
     ]
    }
   ],
   "source": [
    "one_hot_landuse = pd.get_dummies(items['landuse'])\n",
    "df_landuse = one_hot_landuse[list(landuse.keys())]#.groupby()"
   ]
  },
  {
   "cell_type": "code",
   "execution_count": 48,
   "metadata": {
    "id": "gOZkhd-QbIBx"
   },
   "outputs": [],
   "source": [
    "one_hot_railway = pd.get_dummies(items['railway'])\n",
    "df_railway = one_hot_railway[list(railway.keys())]#.groupby()"
   ]
  },
  {
   "cell_type": "code",
   "execution_count": 49,
   "metadata": {
    "colab": {
     "base_uri": "https://localhost:8080/"
    },
    "id": "s_xZMHqJbIFL",
    "outputId": "ac7b1698-4b8a-4c25-8f2d-62eade6315bb"
   },
   "outputs": [
    {
     "name": "stderr",
     "output_type": "stream",
     "text": [
      "/usr/local/lib/python3.10/dist-packages/ipykernel/ipkernel.py:283: DeprecationWarning: `should_run_async` will not call `transform_cell` automatically in the future. Please pass the result to `transformed_cell` argument and any exception that happen during thetransform in `preprocessing_exc_tuple` in IPython 7.17 and above.\n",
      "  and should_run_async(code)\n"
     ]
    }
   ],
   "source": [
    "one_hot_building = pd.get_dummies(items['building'])\n",
    "df_building = one_hot_building[list(building.keys())]#.groupby()"
   ]
  },
  {
   "cell_type": "code",
   "execution_count": 50,
   "metadata": {
    "id": "GP32iIPaAl8Z"
   },
   "outputs": [],
   "source": [
    "one_hot_amenity = pd.get_dummies(items['amenity'])\n",
    "df_amenity = one_hot_amenity[list(amenities.keys())]#.groupby()"
   ]
  },
  {
   "cell_type": "code",
   "execution_count": 51,
   "metadata": {
    "id": "Vc0DLCcL0Xac"
   },
   "outputs": [],
   "source": [
    "one_hot_tourism = pd.get_dummies(items['tourism'])\n",
    "df_tourism = one_hot_tourism[list(tourism.keys())]#.groupby()"
   ]
  },
  {
   "cell_type": "code",
   "execution_count": 52,
   "metadata": {
    "colab": {
     "base_uri": "https://localhost:8080/"
    },
    "id": "fL53u5C41Df8",
    "outputId": "36ef14b6-22d1-4e4c-c5f4-66f7355b2a1d"
   },
   "outputs": [
    {
     "name": "stderr",
     "output_type": "stream",
     "text": [
      "/usr/local/lib/python3.10/dist-packages/ipykernel/ipkernel.py:283: DeprecationWarning: `should_run_async` will not call `transform_cell` automatically in the future. Please pass the result to `transformed_cell` argument and any exception that happen during thetransform in `preprocessing_exc_tuple` in IPython 7.17 and above.\n",
      "  and should_run_async(code)\n"
     ]
    }
   ],
   "source": [
    "one_hot_office = pd.get_dummies(items['office'])\n",
    "df_office = one_hot_office[list(office.keys())]#.groupby()"
   ]
  },
  {
   "cell_type": "code",
   "execution_count": 53,
   "metadata": {
    "id": "MtvtJaekAc0a"
   },
   "outputs": [],
   "source": [
    "df1 = pd.merge(df_amenity, df_shops, left_on='osmid', right_on='osmid')"
   ]
  },
  {
   "cell_type": "code",
   "execution_count": 54,
   "metadata": {
    "id": "rfXGuRBb0vdk"
   },
   "outputs": [],
   "source": [
    "df2 = pd.merge(df1, df_tourism, left_on='osmid', right_on='osmid')"
   ]
  },
  {
   "cell_type": "code",
   "execution_count": 55,
   "metadata": {
    "id": "Zz1trHUJ06ET"
   },
   "outputs": [],
   "source": [
    "df3 = pd.merge(df2, df_office, left_on='osmid', right_on='osmid')"
   ]
  },
  {
   "cell_type": "code",
   "execution_count": 56,
   "metadata": {
    "colab": {
     "base_uri": "https://localhost:8080/"
    },
    "id": "eKDqM16MctMy",
    "outputId": "e68505af-b1f6-43da-8bf4-b94279353a10"
   },
   "outputs": [
    {
     "name": "stderr",
     "output_type": "stream",
     "text": [
      "/usr/local/lib/python3.10/dist-packages/ipykernel/ipkernel.py:283: DeprecationWarning: `should_run_async` will not call `transform_cell` automatically in the future. Please pass the result to `transformed_cell` argument and any exception that happen during thetransform in `preprocessing_exc_tuple` in IPython 7.17 and above.\n",
      "  and should_run_async(code)\n"
     ]
    }
   ],
   "source": [
    "df4 = pd.merge(df3, df_landuse, left_on='osmid', right_on='osmid')"
   ]
  },
  {
   "cell_type": "code",
   "execution_count": 57,
   "metadata": {
    "colab": {
     "base_uri": "https://localhost:8080/"
    },
    "id": "jT0oEe4SctWr",
    "outputId": "316af276-2519-4fcc-b626-b528621a768b"
   },
   "outputs": [
    {
     "name": "stderr",
     "output_type": "stream",
     "text": [
      "/usr/local/lib/python3.10/dist-packages/ipykernel/ipkernel.py:283: DeprecationWarning: `should_run_async` will not call `transform_cell` automatically in the future. Please pass the result to `transformed_cell` argument and any exception that happen during thetransform in `preprocessing_exc_tuple` in IPython 7.17 and above.\n",
      "  and should_run_async(code)\n"
     ]
    }
   ],
   "source": [
    "df5 = pd.merge(df4, df_building, left_on='osmid', right_on='osmid')"
   ]
  },
  {
   "cell_type": "code",
   "execution_count": 58,
   "metadata": {
    "colab": {
     "base_uri": "https://localhost:8080/"
    },
    "id": "eTqqqn25c7f1",
    "outputId": "f047388b-a892-47b1-c6d4-0eef78b7c4fd"
   },
   "outputs": [
    {
     "name": "stderr",
     "output_type": "stream",
     "text": [
      "/usr/local/lib/python3.10/dist-packages/ipykernel/ipkernel.py:283: DeprecationWarning: `should_run_async` will not call `transform_cell` automatically in the future. Please pass the result to `transformed_cell` argument and any exception that happen during thetransform in `preprocessing_exc_tuple` in IPython 7.17 and above.\n",
      "  and should_run_async(code)\n"
     ]
    }
   ],
   "source": [
    "df6 = pd.merge(df5, df_railway, left_on='osmid', right_on='osmid')"
   ]
  },
  {
   "cell_type": "markdown",
   "metadata": {
    "id": "gpbfCkZJAdqk"
   },
   "source": []
  },
  {
   "cell_type": "code",
   "execution_count": 59,
   "metadata": {
    "colab": {
     "base_uri": "https://localhost:8080/"
    },
    "id": "1jMvbMjQXuhV",
    "outputId": "f072186e-a92d-4994-f53e-52ec06707633"
   },
   "outputs": [
    {
     "name": "stderr",
     "output_type": "stream",
     "text": [
      "<frozen importlib._bootstrap>:914: ImportWarning: APICoreClientInfoImportHook.find_spec() not found; falling back to find_module()\n",
      "<frozen importlib._bootstrap>:914: ImportWarning: _PyDriveImportHook.find_spec() not found; falling back to find_module()\n",
      "<frozen importlib._bootstrap>:914: ImportWarning: _OpenCVImportHook.find_spec() not found; falling back to find_module()\n",
      "<frozen importlib._bootstrap>:914: ImportWarning: _BokehImportHook.find_spec() not found; falling back to find_module()\n",
      "<frozen importlib._bootstrap>:914: ImportWarning: _AltairImportHook.find_spec() not found; falling back to find_module()\n",
      "<ipython-input-59-291e006d03f3>:1: DtypeWarning: Columns (8,10,11,12,18,19,22,23,24,25,26,27,28,29,30,31,32,33,40,44,45,46,47,48,49,50,51,52,54,55,56,57,58,59,60,61,62,63,64,65,67,68,69,70,71,72,74,75,76,77,78,79,80,81,82,83,84,85,86,87,89,91,92,93,94,96,97,98,99,100,102,104,105,106,108,109,110,111,112,113,114,115,116,117,118,119,120,122,123,124,125,126,127,128,129,130,131,132,133,136,138,139,140,141,146,147,148,169,171,172,173,174,175,176,177,178,179,180,181,182,184,185,186,187,191,192,193,194,195,196,197,198,199,200,201,202,203,204,205,206,207,208,209,210,211,212,214,215,216,217,218,219,221,222,223,224,225,226,227,228,229,230,232) have mixed types. Specify dtype option on import or set low_memory=False.\n",
      "  df_h3 = pd.read_csv('locations.csv')\n"
     ]
    }
   ],
   "source": [
    "df_h3 = pd.read_csv('locations.csv')"
   ]
  },
  {
   "cell_type": "code",
   "execution_count": 60,
   "metadata": {
    "id": "2Osc48C_Z_MQ"
   },
   "outputs": [],
   "source": [
    "df3 = df_h3[[\"osmid\",\"h3_cell\"]]"
   ]
  },
  {
   "cell_type": "code",
   "execution_count": 61,
   "metadata": {
    "id": "i7VJAWMFwBWW"
   },
   "outputs": [],
   "source": [
    "df = pd.merge(df1, df3, left_on='osmid', right_on='osmid')"
   ]
  },
  {
   "cell_type": "code",
   "execution_count": 62,
   "metadata": {
    "id": "ex4hH5GLyNn6"
   },
   "outputs": [],
   "source": [
    "df_emb = df.groupby('h3_cell').sum()"
   ]
  },
  {
   "cell_type": "code",
   "execution_count": 63,
   "metadata": {
    "id": "477SaSixygBk"
   },
   "outputs": [],
   "source": [
    "df_emb.drop('osmid', inplace=True, axis=1)"
   ]
  },
  {
   "cell_type": "code",
   "execution_count": 64,
   "metadata": {
    "colab": {
     "base_uri": "https://localhost:8080/",
     "height": 519
    },
    "id": "U0BpmsWB5sb8",
    "outputId": "e7979683-576a-4c53-969d-05be2b91a0ad"
   },
   "outputs": [
    {
     "data": {
      "text/html": [
       "\n",
       "  <div id=\"df-e16c0040-4a76-4e0e-95ab-d71d34f56bdd\">\n",
       "    <div class=\"colab-df-container\">\n",
       "      <div>\n",
       "<style scoped>\n",
       "    .dataframe tbody tr th:only-of-type {\n",
       "        vertical-align: middle;\n",
       "    }\n",
       "\n",
       "    .dataframe tbody tr th {\n",
       "        vertical-align: top;\n",
       "    }\n",
       "\n",
       "    .dataframe thead th {\n",
       "        text-align: right;\n",
       "    }\n",
       "</style>\n",
       "<table border=\"1\" class=\"dataframe\">\n",
       "  <thead>\n",
       "    <tr style=\"text-align: right;\">\n",
       "      <th></th>\n",
       "      <th>parking</th>\n",
       "      <th>bench</th>\n",
       "      <th>waste_disposal</th>\n",
       "      <th>waste_basket</th>\n",
       "      <th>kindergarten</th>\n",
       "      <th>cafe</th>\n",
       "      <th>school</th>\n",
       "      <th>pharmacy</th>\n",
       "      <th>atm</th>\n",
       "      <th>bank</th>\n",
       "      <th>...</th>\n",
       "      <th>studio</th>\n",
       "      <th>community_centre</th>\n",
       "      <th>monastery</th>\n",
       "      <th>kiosk</th>\n",
       "      <th>convenience</th>\n",
       "      <th>yes</th>\n",
       "      <th>mall</th>\n",
       "      <th>ticket</th>\n",
       "      <th>supermarket</th>\n",
       "      <th>newsagent</th>\n",
       "    </tr>\n",
       "    <tr>\n",
       "      <th>h3_cell</th>\n",
       "      <th></th>\n",
       "      <th></th>\n",
       "      <th></th>\n",
       "      <th></th>\n",
       "      <th></th>\n",
       "      <th></th>\n",
       "      <th></th>\n",
       "      <th></th>\n",
       "      <th></th>\n",
       "      <th></th>\n",
       "      <th></th>\n",
       "      <th></th>\n",
       "      <th></th>\n",
       "      <th></th>\n",
       "      <th></th>\n",
       "      <th></th>\n",
       "      <th></th>\n",
       "      <th></th>\n",
       "      <th></th>\n",
       "      <th></th>\n",
       "      <th></th>\n",
       "    </tr>\n",
       "  </thead>\n",
       "  <tbody>\n",
       "    <tr>\n",
       "      <th>89118108823ffff</th>\n",
       "      <td>0</td>\n",
       "      <td>0</td>\n",
       "      <td>0</td>\n",
       "      <td>0</td>\n",
       "      <td>0</td>\n",
       "      <td>0</td>\n",
       "      <td>0</td>\n",
       "      <td>0</td>\n",
       "      <td>0</td>\n",
       "      <td>0</td>\n",
       "      <td>...</td>\n",
       "      <td>0</td>\n",
       "      <td>0</td>\n",
       "      <td>0</td>\n",
       "      <td>0</td>\n",
       "      <td>0</td>\n",
       "      <td>0</td>\n",
       "      <td>0</td>\n",
       "      <td>0</td>\n",
       "      <td>0</td>\n",
       "      <td>0</td>\n",
       "    </tr>\n",
       "    <tr>\n",
       "      <th>8911810882bffff</th>\n",
       "      <td>2</td>\n",
       "      <td>0</td>\n",
       "      <td>0</td>\n",
       "      <td>0</td>\n",
       "      <td>0</td>\n",
       "      <td>1</td>\n",
       "      <td>0</td>\n",
       "      <td>0</td>\n",
       "      <td>1</td>\n",
       "      <td>0</td>\n",
       "      <td>...</td>\n",
       "      <td>0</td>\n",
       "      <td>0</td>\n",
       "      <td>0</td>\n",
       "      <td>0</td>\n",
       "      <td>0</td>\n",
       "      <td>0</td>\n",
       "      <td>0</td>\n",
       "      <td>0</td>\n",
       "      <td>0</td>\n",
       "      <td>0</td>\n",
       "    </tr>\n",
       "    <tr>\n",
       "      <th>8911810882fffff</th>\n",
       "      <td>0</td>\n",
       "      <td>0</td>\n",
       "      <td>0</td>\n",
       "      <td>0</td>\n",
       "      <td>0</td>\n",
       "      <td>0</td>\n",
       "      <td>0</td>\n",
       "      <td>0</td>\n",
       "      <td>0</td>\n",
       "      <td>0</td>\n",
       "      <td>...</td>\n",
       "      <td>0</td>\n",
       "      <td>0</td>\n",
       "      <td>0</td>\n",
       "      <td>0</td>\n",
       "      <td>0</td>\n",
       "      <td>0</td>\n",
       "      <td>0</td>\n",
       "      <td>0</td>\n",
       "      <td>0</td>\n",
       "      <td>0</td>\n",
       "    </tr>\n",
       "    <tr>\n",
       "      <th>8911810884fffff</th>\n",
       "      <td>1</td>\n",
       "      <td>0</td>\n",
       "      <td>0</td>\n",
       "      <td>0</td>\n",
       "      <td>0</td>\n",
       "      <td>0</td>\n",
       "      <td>0</td>\n",
       "      <td>0</td>\n",
       "      <td>0</td>\n",
       "      <td>0</td>\n",
       "      <td>...</td>\n",
       "      <td>0</td>\n",
       "      <td>0</td>\n",
       "      <td>0</td>\n",
       "      <td>0</td>\n",
       "      <td>0</td>\n",
       "      <td>0</td>\n",
       "      <td>0</td>\n",
       "      <td>0</td>\n",
       "      <td>0</td>\n",
       "      <td>0</td>\n",
       "    </tr>\n",
       "    <tr>\n",
       "      <th>8911810886fffff</th>\n",
       "      <td>0</td>\n",
       "      <td>0</td>\n",
       "      <td>0</td>\n",
       "      <td>0</td>\n",
       "      <td>0</td>\n",
       "      <td>0</td>\n",
       "      <td>0</td>\n",
       "      <td>0</td>\n",
       "      <td>0</td>\n",
       "      <td>0</td>\n",
       "      <td>...</td>\n",
       "      <td>0</td>\n",
       "      <td>0</td>\n",
       "      <td>0</td>\n",
       "      <td>0</td>\n",
       "      <td>0</td>\n",
       "      <td>0</td>\n",
       "      <td>0</td>\n",
       "      <td>0</td>\n",
       "      <td>0</td>\n",
       "      <td>0</td>\n",
       "    </tr>\n",
       "    <tr>\n",
       "      <th>...</th>\n",
       "      <td>...</td>\n",
       "      <td>...</td>\n",
       "      <td>...</td>\n",
       "      <td>...</td>\n",
       "      <td>...</td>\n",
       "      <td>...</td>\n",
       "      <td>...</td>\n",
       "      <td>...</td>\n",
       "      <td>...</td>\n",
       "      <td>...</td>\n",
       "      <td>...</td>\n",
       "      <td>...</td>\n",
       "      <td>...</td>\n",
       "      <td>...</td>\n",
       "      <td>...</td>\n",
       "      <td>...</td>\n",
       "      <td>...</td>\n",
       "      <td>...</td>\n",
       "      <td>...</td>\n",
       "      <td>...</td>\n",
       "      <td>...</td>\n",
       "    </tr>\n",
       "    <tr>\n",
       "      <th>89118173507ffff</th>\n",
       "      <td>0</td>\n",
       "      <td>0</td>\n",
       "      <td>0</td>\n",
       "      <td>0</td>\n",
       "      <td>0</td>\n",
       "      <td>0</td>\n",
       "      <td>0</td>\n",
       "      <td>0</td>\n",
       "      <td>0</td>\n",
       "      <td>0</td>\n",
       "      <td>...</td>\n",
       "      <td>0</td>\n",
       "      <td>0</td>\n",
       "      <td>0</td>\n",
       "      <td>0</td>\n",
       "      <td>0</td>\n",
       "      <td>0</td>\n",
       "      <td>0</td>\n",
       "      <td>0</td>\n",
       "      <td>0</td>\n",
       "      <td>0</td>\n",
       "    </tr>\n",
       "    <tr>\n",
       "      <th>89118173523ffff</th>\n",
       "      <td>0</td>\n",
       "      <td>0</td>\n",
       "      <td>0</td>\n",
       "      <td>0</td>\n",
       "      <td>0</td>\n",
       "      <td>0</td>\n",
       "      <td>0</td>\n",
       "      <td>0</td>\n",
       "      <td>0</td>\n",
       "      <td>0</td>\n",
       "      <td>...</td>\n",
       "      <td>0</td>\n",
       "      <td>0</td>\n",
       "      <td>0</td>\n",
       "      <td>0</td>\n",
       "      <td>0</td>\n",
       "      <td>0</td>\n",
       "      <td>0</td>\n",
       "      <td>0</td>\n",
       "      <td>0</td>\n",
       "      <td>0</td>\n",
       "    </tr>\n",
       "    <tr>\n",
       "      <th>8911817352bffff</th>\n",
       "      <td>0</td>\n",
       "      <td>0</td>\n",
       "      <td>0</td>\n",
       "      <td>0</td>\n",
       "      <td>0</td>\n",
       "      <td>0</td>\n",
       "      <td>0</td>\n",
       "      <td>0</td>\n",
       "      <td>0</td>\n",
       "      <td>0</td>\n",
       "      <td>...</td>\n",
       "      <td>0</td>\n",
       "      <td>0</td>\n",
       "      <td>0</td>\n",
       "      <td>0</td>\n",
       "      <td>0</td>\n",
       "      <td>0</td>\n",
       "      <td>0</td>\n",
       "      <td>0</td>\n",
       "      <td>0</td>\n",
       "      <td>0</td>\n",
       "    </tr>\n",
       "    <tr>\n",
       "      <th>89118173533ffff</th>\n",
       "      <td>0</td>\n",
       "      <td>0</td>\n",
       "      <td>0</td>\n",
       "      <td>0</td>\n",
       "      <td>0</td>\n",
       "      <td>0</td>\n",
       "      <td>0</td>\n",
       "      <td>0</td>\n",
       "      <td>0</td>\n",
       "      <td>0</td>\n",
       "      <td>...</td>\n",
       "      <td>0</td>\n",
       "      <td>0</td>\n",
       "      <td>0</td>\n",
       "      <td>0</td>\n",
       "      <td>0</td>\n",
       "      <td>0</td>\n",
       "      <td>0</td>\n",
       "      <td>0</td>\n",
       "      <td>0</td>\n",
       "      <td>0</td>\n",
       "    </tr>\n",
       "    <tr>\n",
       "      <th>8911817353bffff</th>\n",
       "      <td>1</td>\n",
       "      <td>0</td>\n",
       "      <td>0</td>\n",
       "      <td>0</td>\n",
       "      <td>0</td>\n",
       "      <td>0</td>\n",
       "      <td>0</td>\n",
       "      <td>0</td>\n",
       "      <td>0</td>\n",
       "      <td>0</td>\n",
       "      <td>...</td>\n",
       "      <td>0</td>\n",
       "      <td>0</td>\n",
       "      <td>0</td>\n",
       "      <td>0</td>\n",
       "      <td>0</td>\n",
       "      <td>0</td>\n",
       "      <td>0</td>\n",
       "      <td>0</td>\n",
       "      <td>0</td>\n",
       "      <td>0</td>\n",
       "    </tr>\n",
       "  </tbody>\n",
       "</table>\n",
       "<p>385 rows × 62 columns</p>\n",
       "</div>\n",
       "      <button class=\"colab-df-convert\" onclick=\"convertToInteractive('df-e16c0040-4a76-4e0e-95ab-d71d34f56bdd')\"\n",
       "              title=\"Convert this dataframe to an interactive table.\"\n",
       "              style=\"display:none;\">\n",
       "        \n",
       "  <svg xmlns=\"http://www.w3.org/2000/svg\" height=\"24px\"viewBox=\"0 0 24 24\"\n",
       "       width=\"24px\">\n",
       "    <path d=\"M0 0h24v24H0V0z\" fill=\"none\"/>\n",
       "    <path d=\"M18.56 5.44l.94 2.06.94-2.06 2.06-.94-2.06-.94-.94-2.06-.94 2.06-2.06.94zm-11 1L8.5 8.5l.94-2.06 2.06-.94-2.06-.94L8.5 2.5l-.94 2.06-2.06.94zm10 10l.94 2.06.94-2.06 2.06-.94-2.06-.94-.94-2.06-.94 2.06-2.06.94z\"/><path d=\"M17.41 7.96l-1.37-1.37c-.4-.4-.92-.59-1.43-.59-.52 0-1.04.2-1.43.59L10.3 9.45l-7.72 7.72c-.78.78-.78 2.05 0 2.83L4 21.41c.39.39.9.59 1.41.59.51 0 1.02-.2 1.41-.59l7.78-7.78 2.81-2.81c.8-.78.8-2.07 0-2.86zM5.41 20L4 18.59l7.72-7.72 1.47 1.35L5.41 20z\"/>\n",
       "  </svg>\n",
       "      </button>\n",
       "      \n",
       "  <style>\n",
       "    .colab-df-container {\n",
       "      display:flex;\n",
       "      flex-wrap:wrap;\n",
       "      gap: 12px;\n",
       "    }\n",
       "\n",
       "    .colab-df-convert {\n",
       "      background-color: #E8F0FE;\n",
       "      border: none;\n",
       "      border-radius: 50%;\n",
       "      cursor: pointer;\n",
       "      display: none;\n",
       "      fill: #1967D2;\n",
       "      height: 32px;\n",
       "      padding: 0 0 0 0;\n",
       "      width: 32px;\n",
       "    }\n",
       "\n",
       "    .colab-df-convert:hover {\n",
       "      background-color: #E2EBFA;\n",
       "      box-shadow: 0px 1px 2px rgba(60, 64, 67, 0.3), 0px 1px 3px 1px rgba(60, 64, 67, 0.15);\n",
       "      fill: #174EA6;\n",
       "    }\n",
       "\n",
       "    [theme=dark] .colab-df-convert {\n",
       "      background-color: #3B4455;\n",
       "      fill: #D2E3FC;\n",
       "    }\n",
       "\n",
       "    [theme=dark] .colab-df-convert:hover {\n",
       "      background-color: #434B5C;\n",
       "      box-shadow: 0px 1px 3px 1px rgba(0, 0, 0, 0.15);\n",
       "      filter: drop-shadow(0px 1px 2px rgba(0, 0, 0, 0.3));\n",
       "      fill: #FFFFFF;\n",
       "    }\n",
       "  </style>\n",
       "\n",
       "      <script>\n",
       "        const buttonEl =\n",
       "          document.querySelector('#df-e16c0040-4a76-4e0e-95ab-d71d34f56bdd button.colab-df-convert');\n",
       "        buttonEl.style.display =\n",
       "          google.colab.kernel.accessAllowed ? 'block' : 'none';\n",
       "\n",
       "        async function convertToInteractive(key) {\n",
       "          const element = document.querySelector('#df-e16c0040-4a76-4e0e-95ab-d71d34f56bdd');\n",
       "          const dataTable =\n",
       "            await google.colab.kernel.invokeFunction('convertToInteractive',\n",
       "                                                     [key], {});\n",
       "          if (!dataTable) return;\n",
       "\n",
       "          const docLinkHtml = 'Like what you see? Visit the ' +\n",
       "            '<a target=\"_blank\" href=https://colab.research.google.com/notebooks/data_table.ipynb>data table notebook</a>'\n",
       "            + ' to learn more about interactive tables.';\n",
       "          element.innerHTML = '';\n",
       "          dataTable['output_type'] = 'display_data';\n",
       "          await google.colab.output.renderOutput(dataTable, element);\n",
       "          const docLink = document.createElement('div');\n",
       "          docLink.innerHTML = docLinkHtml;\n",
       "          element.appendChild(docLink);\n",
       "        }\n",
       "      </script>\n",
       "    </div>\n",
       "  </div>\n",
       "  "
      ],
      "text/plain": [
       "                 parking  bench  waste_disposal  waste_basket  kindergarten  \\\n",
       "h3_cell                                                                       \n",
       "89118108823ffff        0      0               0             0             0   \n",
       "8911810882bffff        2      0               0             0             0   \n",
       "8911810882fffff        0      0               0             0             0   \n",
       "8911810884fffff        1      0               0             0             0   \n",
       "8911810886fffff        0      0               0             0             0   \n",
       "...                  ...    ...             ...           ...           ...   \n",
       "89118173507ffff        0      0               0             0             0   \n",
       "89118173523ffff        0      0               0             0             0   \n",
       "8911817352bffff        0      0               0             0             0   \n",
       "89118173533ffff        0      0               0             0             0   \n",
       "8911817353bffff        1      0               0             0             0   \n",
       "\n",
       "                 cafe  school  pharmacy  atm  bank  ...  studio  \\\n",
       "h3_cell                                             ...           \n",
       "89118108823ffff     0       0         0    0     0  ...       0   \n",
       "8911810882bffff     1       0         0    1     0  ...       0   \n",
       "8911810882fffff     0       0         0    0     0  ...       0   \n",
       "8911810884fffff     0       0         0    0     0  ...       0   \n",
       "8911810886fffff     0       0         0    0     0  ...       0   \n",
       "...               ...     ...       ...  ...   ...  ...     ...   \n",
       "89118173507ffff     0       0         0    0     0  ...       0   \n",
       "89118173523ffff     0       0         0    0     0  ...       0   \n",
       "8911817352bffff     0       0         0    0     0  ...       0   \n",
       "89118173533ffff     0       0         0    0     0  ...       0   \n",
       "8911817353bffff     0       0         0    0     0  ...       0   \n",
       "\n",
       "                 community_centre  monastery  kiosk  convenience  yes  mall  \\\n",
       "h3_cell                                                                       \n",
       "89118108823ffff                 0          0      0            0    0     0   \n",
       "8911810882bffff                 0          0      0            0    0     0   \n",
       "8911810882fffff                 0          0      0            0    0     0   \n",
       "8911810884fffff                 0          0      0            0    0     0   \n",
       "8911810886fffff                 0          0      0            0    0     0   \n",
       "...                           ...        ...    ...          ...  ...   ...   \n",
       "89118173507ffff                 0          0      0            0    0     0   \n",
       "89118173523ffff                 0          0      0            0    0     0   \n",
       "8911817352bffff                 0          0      0            0    0     0   \n",
       "89118173533ffff                 0          0      0            0    0     0   \n",
       "8911817353bffff                 0          0      0            0    0     0   \n",
       "\n",
       "                 ticket  supermarket  newsagent  \n",
       "h3_cell                                          \n",
       "89118108823ffff       0            0          0  \n",
       "8911810882bffff       0            0          0  \n",
       "8911810882fffff       0            0          0  \n",
       "8911810884fffff       0            0          0  \n",
       "8911810886fffff       0            0          0  \n",
       "...                 ...          ...        ...  \n",
       "89118173507ffff       0            0          0  \n",
       "89118173523ffff       0            0          0  \n",
       "8911817352bffff       0            0          0  \n",
       "89118173533ffff       0            0          0  \n",
       "8911817353bffff       0            0          0  \n",
       "\n",
       "[385 rows x 62 columns]"
      ]
     },
     "execution_count": 64,
     "metadata": {},
     "output_type": "execute_result"
    }
   ],
   "source": [
    "df_emb"
   ]
  },
  {
   "cell_type": "code",
   "execution_count": 65,
   "metadata": {
    "colab": {
     "base_uri": "https://localhost:8080/"
    },
    "id": "IH6PqYY-yiH_",
    "outputId": "1ed96328-eeb7-4187-b032-74a8daf0bdb6"
   },
   "outputs": [
    {
     "data": {
      "text/plain": [
       "['parking',\n",
       " 'bench',\n",
       " 'waste_disposal',\n",
       " 'waste_basket',\n",
       " 'kindergarten',\n",
       " 'cafe',\n",
       " 'school',\n",
       " 'pharmacy',\n",
       " 'atm',\n",
       " 'bank',\n",
       " 'place_of_worship',\n",
       " 'car_wash',\n",
       " 'fuel',\n",
       " 'fast_food',\n",
       " 'post_office',\n",
       " 'taxi',\n",
       " 'clinic',\n",
       " 'fountain',\n",
       " 'recycling',\n",
       " 'restaurant',\n",
       " 'bicycle_parking',\n",
       " 'payment_terminal',\n",
       " 'toilets',\n",
       " 'library',\n",
       " 'police',\n",
       " 'telephone',\n",
       " 'college',\n",
       " 'fire_station',\n",
       " 'bus_station',\n",
       " 'university',\n",
       " 'veterinary',\n",
       " 'hospital',\n",
       " 'cinema',\n",
       " 'parking_entrance',\n",
       " 'music_school',\n",
       " 'parcel_locker',\n",
       " 'customs',\n",
       " 'social_facility',\n",
       " 'townhall',\n",
       " 'training',\n",
       " 'pub',\n",
       " 'vending_machine',\n",
       " 'doctors',\n",
       " 'hunting_stand',\n",
       " 'bar',\n",
       " 'driving_school',\n",
       " 'drinking_water',\n",
       " 'compressed_air',\n",
       " 'courthouse',\n",
       " 'dentist',\n",
       " 'theatre',\n",
       " 'post_box',\n",
       " 'studio',\n",
       " 'community_centre',\n",
       " 'monastery',\n",
       " 'kiosk',\n",
       " 'convenience',\n",
       " 'yes',\n",
       " 'mall',\n",
       " 'ticket',\n",
       " 'supermarket',\n",
       " 'newsagent']"
      ]
     },
     "execution_count": 65,
     "metadata": {},
     "output_type": "execute_result"
    }
   ],
   "source": [
    "list(df_emb.columns)"
   ]
  },
  {
   "cell_type": "code",
   "execution_count": 66,
   "metadata": {
    "colab": {
     "base_uri": "https://localhost:8080/"
    },
    "id": "L4tp7qKGy21T",
    "outputId": "b4cb0907-84e8-4a13-bf96-914d9312ab0f"
   },
   "outputs": [
    {
     "name": "stderr",
     "output_type": "stream",
     "text": [
      "<frozen importlib._bootstrap>:914: ImportWarning: APICoreClientInfoImportHook.find_spec() not found; falling back to find_module()\n",
      "<frozen importlib._bootstrap>:914: ImportWarning: _PyDriveImportHook.find_spec() not found; falling back to find_module()\n",
      "<frozen importlib._bootstrap>:914: ImportWarning: _OpenCVImportHook.find_spec() not found; falling back to find_module()\n",
      "<frozen importlib._bootstrap>:914: ImportWarning: _BokehImportHook.find_spec() not found; falling back to find_module()\n",
      "<frozen importlib._bootstrap>:914: ImportWarning: _AltairImportHook.find_spec() not found; falling back to find_module()\n"
     ]
    }
   ],
   "source": [
    "df_emb.to_csv('locs_emb.csv')"
   ]
  },
  {
   "cell_type": "code",
   "execution_count": null,
   "metadata": {
    "id": "DYP4ULub1yEU"
   },
   "outputs": [],
   "source": []
  }
 ],
 "metadata": {
  "colab": {
   "provenance": []
  },
  "kernelspec": {
   "display_name": "Python 3 (ipykernel)",
   "language": "python",
   "name": "python3"
  },
  "language_info": {
   "codemirror_mode": {
    "name": "ipython",
    "version": 3
   },
   "file_extension": ".py",
   "mimetype": "text/x-python",
   "name": "python",
   "nbconvert_exporter": "python",
   "pygments_lexer": "ipython3",
   "version": "3.9.7"
  }
 },
 "nbformat": 4,
 "nbformat_minor": 1
}
